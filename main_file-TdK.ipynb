{
 "cells": [
  {
   "cell_type": "code",
   "execution_count": 1,
   "metadata": {
    "extensions": {
     "jupyter_dashboards": {
      "version": 1,
      "views": {
       "grid_default": {
        "hidden": true
       },
       "report_default": {
        "hidden": true
       }
      }
     }
    }
   },
   "outputs": [],
   "source": [
    "\"\"\"Lennard-Jones for specific atom\"\"\"\n",
    "\n",
    "import numpy as np\n",
    "import copy as cp\n",
    "import matplotlib.pyplot as plt\n",
    "from make_animation import make_3d_animation\n",
    "\n",
    "class atom_props():\n",
    "    \"\"\"Redunant calss, can be deleted \n",
    "    Sets atom properties\n",
    "    \n",
    "    Parameters: \n",
    "    -----------\n",
    "    sigma: float\n",
    "        sigma of the atom, self.sig\n",
    "    epsilon: float\n",
    "        epsilon of atom, self.eps\n",
    "    mass: floast\n",
    "        mass of the atom, self.m\n",
    "    \n",
    "    \"\"\"\n",
    "    def __init__(self, sigma, epsilon, mass):\n",
    "        self.sig = sigma\n",
    "        self.eps = epsilon\n",
    "        self.m = mass\n",
    "\n",
    "def pot_LJ(atom,r):\n",
    "    \"\"\"Regular Lenard Jones potential, based on atom properties and distance\"\"\"\n",
    "    sig = atom.sig\n",
    "    eps = atom.eps\n",
    "    return 4*eps*((sig/r)**12 - (sig/r)**6)   \n",
    "\n",
    "def pot_LJ_dl(r):\n",
    "    \"\"\"Dimensionless Lenard Jones potential, based on distances\"\"\"\n",
    "    r = r**-6 # Possibly improves speed\n",
    "    u = 4*(r**2 - r)        \n",
    "    return u\n",
    "\n",
    "def grad_pot_LJ_dl(r):\n",
    "    \"\"\"Diff of the Lennard Jones potential wrt r, dimensionless\"\"\"\n",
    "    return (-48*r**-6 + 24)*r**-7 \n",
    "\n",
    "def particle_generator(lattice, L, N, dim):\n",
    "    \"\"\"Generates initial particle position and velocity.\n",
    "    \n",
    "    Parameters:\n",
    "    -----------\n",
    "    lattice: string\n",
    "        random: arbitrary ammount of particles and dimensions randomly distributed \n",
    "        fcc: 3d 4 particles on fcc lattice \n",
    "    L: float\n",
    "        size of the simulation box\n",
    "    N: int\n",
    "        Number of particles, should be n^3 where n is the amount of boxes in one direction\n",
    "    dim: int\n",
    "        Number of dimensions, should be 3 for fcc     \n",
    "    \"\"\"\n",
    "    if lattice == \"random\":\n",
    "        x_init = np.random.random((dim,N))*L\n",
    "        \n",
    "    if lattice == \"fcc\":\n",
    "        \n",
    "        if (unit_cells == unit_power**3) and dim == 3:\n",
    "            # Primitive unit cell coordinates for fcc\n",
    "            initial_unit_cell = np.array([[0,0,unit_size/2,unit_size/2],\n",
    "                                          [0,unit_size/2,0,unit_size/2],\n",
    "                                          [0,unit_size/2,unit_size/2,0]])\n",
    "            \n",
    "            # Create list width 1d coordinate of every starting cell\n",
    "            a =[]\n",
    "            for p in range(unit_power):\n",
    "                a.append([unit_size*p])\n",
    "            \n",
    "            # Create a 1d grid of all unit cell corners\n",
    "            arr = np.array([arr.flatten() for arr in np.meshgrid(a,a,a)])\n",
    "            \n",
    "            # Create array with all the translated unit cell coordinates\n",
    "            fcc_coordinates = np.array([[],[],[]])\n",
    "            for j in range(unit_power**3):\n",
    "                tempor = arr[:, j].reshape(dim,1) + initial_unit_cell \n",
    "                fcc_coordinates = np.concatenate([fcc_coordinates, tempor], axis = 1)\n",
    "\n",
    "            x_init = fcc_coordinates\n",
    "            \n",
    "        else:\n",
    "            print('The dimension is not equal to 3 or the number of particles doesnt equal four.')\n",
    "            import sys\n",
    "            sys.exit()\n",
    "            \n",
    "    # v_init = np.zeros((dim,N),dtype=float)\n",
    "    # Initial velocity chosen gaussian\n",
    "    v_init = np.random.normal(0, np.sqrt(T), (dim,N))\n",
    "    v_init = v_init - v_init.sum(axis = 1).reshape(3,1)/N #remove net velocity from the system\n",
    "    return x_init, v_init\n",
    "\n",
    "\n",
    "def particle_dist(L, N, x, dim):\n",
    "    \"\"\"\"Calculate distances between NN particle pairs\n",
    "    \n",
    "    Parameters:\n",
    "    -----------\n",
    "    L: float\n",
    "        size of the simulation box\n",
    "    N: int\n",
    "        Number of particles\n",
    "    x: array of size (dim, N)\n",
    "        Particle places   \n",
    "    dim: int\n",
    "        Number of dimensions  \n",
    "    \"\"\"\n",
    "    # Calcolate distances to NN\n",
    "    r = np.zeros((N,N),dtype=float)\n",
    "    delta_tot = np.zeros((dim,N,N),dtype=float)\n",
    "    NN_max_dist = L/2       \n",
    "    \n",
    "    for i in range(dim):\n",
    "        # Difference between coordinates per dimension\n",
    "        delta = x[i,:]-np.transpose([x[i,:]])\n",
    "        \n",
    "        # New difference including 'virtu=al' coordinates\n",
    "        delta[delta >= NN_max_dist] = -(L-delta[delta >= NN_max_dist])\n",
    "        delta[delta < -NN_max_dist] = (L + delta[delta < -NN_max_dist])\n",
    "        delta_tot[i] = delta\n",
    "        r += delta**2   \n",
    "    r = np.sqrt(r) \n",
    "    r[r == 0] = np.inf\n",
    "    return delta_tot, r\n",
    "\n",
    "def pot_and_force(delta_tot, r, dim, N):\n",
    "    \"\"\"Calculate forces between particles based on potential\n",
    "    \n",
    "    Parameters:\n",
    "    -----------\n",
    "    delta_tot: array of size (dim, N, N)\n",
    "        Differenes between particles\n",
    "    r: array of size (N, N)\n",
    "        inter particle distances\n",
    "    dim: int\n",
    "        Number of dimensions  \n",
    "    N: int\n",
    "        Number of particles\n",
    "    \"\"\"\n",
    "    # Potentials and Forces\n",
    "    F = np.zeros((dim,N,N),dtype=float)\n",
    "    U = sum(pot_LJ_dl(r).sum(axis=1))\n",
    "    for i in range(dim):\n",
    "        F[i] = -grad_pot_LJ_dl(r)*delta_tot[i]/r\n",
    "    \n",
    "    F_sum = F.sum(axis=1)\n",
    "    return F_sum, U\n",
    "\n",
    "def xv_iteration(algorithm, x, v, F_tot_old, L, N, dim):\n",
    "    \"\"\"Euler or verlet arlgorithm for position and velocity\n",
    "    \n",
    "    Parameters:\n",
    "    -----------\n",
    "    algorithm: string\n",
    "        verlet or euler, determinse the iterative process used\n",
    "    x: array of size (dim,N)\n",
    "        positions of all the particles\n",
    "    v: array of size (dim,N)\n",
    "        speed of all the particles\n",
    "    F_tot_old: array of size (dim, N)\n",
    "        total force on the particles, per particle at time step t, t + dt is calculated in this function\n",
    "    L: float\n",
    "        size of the simulation box\n",
    "    N: int\n",
    "        Number of particles\n",
    "    dim: int\n",
    "        Number of dimensions \n",
    "    \"\"\"\n",
    "    \n",
    "    if algorithm == \"euler\":\n",
    "        delta_tot, r = particle_dist(L, N, x, dim)\n",
    "        F_tot, U = pot_and_force(delta_tot, r, dim, N)\n",
    "        x = (x + v * delta_t)%L\n",
    "        v = v + F_tot * delta_t\n",
    "        \n",
    "    if algorithm == \"verlet\":\n",
    "        x = (x + v * delta_t + 0.5*delta_t**2 * F_tot_old)%L\n",
    "        delta_tot, r = particle_dist(L, N, x, dim)\n",
    "        F_tot, U = pot_and_force(delta_tot, r, dim, N)\n",
    "        v = v + 0.5*delta_t * (F_tot + F_tot_old)\n",
    "            \n",
    "    return x, v, F_tot, U.sum(), r\n",
    "\n",
    "def temp_check(E_kin, E_pot, v, T_tot, i, conf_level, check_time, sum_past, last_renorm_time):\n",
    "    '''Determines if the temperature of the system agress \n",
    "    with the setup temperature, if not a renormalization \n",
    "    of the velocity is applied to correct for the kinetic energy\n",
    "    \n",
    "    Parameters:\n",
    "    -----------\n",
    "    E_kin: array of size (loop iteration i) \n",
    "        kinetic energy of the particles\n",
    "    E_pot: array of size (loop iteration i)\n",
    "        potential energy of the particles\n",
    "    v: array of size (dim, N)\n",
    "        particle velocity's\n",
    "    T_tot: array of size (loop iteration)\n",
    "        all past temeratures of the system\n",
    "    i: int\n",
    "        gives the loop iteration\n",
    "    \n",
    "    '''\n",
    "    past_period = int(i-0.7*i)\n",
    "    T_ave = (T_tot[i-past_period:i].sum())/past_period\n",
    "    T_squ = (((T_tot[i-past_period:i])**2).sum())/past_period\n",
    "    T_std = np.sqrt(T_squ - (T_ave)**2)  \n",
    "    if (T < T_ave - conf_level*T_std or T > T_ave + conf_level*T_std):\n",
    "        last_renorm_time = cp.deepcopy(i)\n",
    "        lam = np.sqrt(((N-1)*3*T)/(2*E_kin[i]))\n",
    "        v = lam * v\n",
    "        renorm_check = True\n",
    "    renorm_check = False\n",
    "    return v, last_renorm_time, renorm_check\n",
    "\n",
    "def pot_calc(U, v):\n",
    "    '''Calculates the total energy of the system, potential and kinetic.\n",
    "    \n",
    "    Parameters:\n",
    "    -----------\n",
    "    U: array of size (N, N)\n",
    "        potential interaction energy of all particles\n",
    "    v: array of size (dim, N)\n",
    "        velocit's of the particles\n",
    "    '''\n",
    "    E_pot = 0.5*U.sum()\n",
    "    E_kin = 0.5*(v**2).sum(axis=1).sum(axis=0)\n",
    "    return E_kin, E_pot\n",
    "    "
   ]
  },
  {
   "cell_type": "code",
   "execution_count": 2,
   "metadata": {
    "extensions": {
     "jupyter_dashboards": {
      "version": 1,
      "views": {
       "grid_default": {
        "hidden": true
       },
       "report_default": {
        "hidden": true
       }
      }
     }
    }
   },
   "outputs": [],
   "source": [
    "# Initialization\n",
    "\n",
    "# Parameters\n",
    "T = 0.5 # Kelvin /119.8\n",
    "density = 1.2\n",
    "\n",
    "# Initial positions\n",
    "unit_power = 3\n",
    "unit_cells = unit_power**3\n",
    "N_unit = 4 # 4 particles per unit cell\n",
    "unit_size = (N_unit/density)**(1/3)\n",
    "L = unit_size*(unit_power) # Box size\n",
    "N = N_unit*unit_cells \n",
    "dim = 3 # Dimensions of the probem\n",
    "\n",
    "lattice = \"fcc\" # fcc or random\n",
    "algorithm = \"verlet\" #euler or velvet\n",
    "\n",
    "x_init, v_init = particle_generator(lattice,L, N, dim)\n"
   ]
  },
  {
   "cell_type": "code",
   "execution_count": 3,
   "metadata": {
    "extensions": {
     "jupyter_dashboards": {
      "version": 1,
      "views": {
       "grid_default": {
        "hidden": true
       },
       "report_default": {
        "hidden": true
       }
      }
     }
    },
    "scrolled": false
   },
   "outputs": [
    {
     "name": "stdout",
     "output_type": "stream",
     "text": [
      "Time: 13.551831722259521 s\n"
     ]
    }
   ],
   "source": [
    "# Main program\n",
    "import time\n",
    "\n",
    "start_time = time.time()\n",
    "\n",
    "delta_t = 4e-3\n",
    "t_max = 2000*delta_t\n",
    "\n",
    "conf_level = 1 # amount of standard deviations from the average temp\n",
    "inter_numb = 2 # Number of interactions per particle\n",
    "\n",
    "t_range = np.arange(0, t_max, delta_t)\n",
    "x = cp.deepcopy(x_init)\n",
    "v = cp.deepcopy(v_init)\n",
    "\n",
    "pos = np.zeros((len(t_range),N,dim),dtype=float)\n",
    "vel = np.zeros((len(t_range),N,dim),dtype=float)\n",
    "force = np.zeros((len(t_range),N,dim),dtype=float)\n",
    "differ = np.zeros((len(t_range),N,N),dtype=float)\n",
    "\n",
    "delta_tot, r = particle_dist(L, N, x, dim)\n",
    "F_tot, U = pot_and_force(delta_tot, r, dim, N)\n",
    "\n",
    "E_pot = np.zeros((len(t_range),1),dtype=float)\n",
    "C_v = np.zeros((len(t_range),1),dtype=float)\n",
    "E_kin = np.zeros((len(t_range),1),dtype=float)\n",
    "T_tot = np.zeros((len(t_range),1),dtype=float)\n",
    "N_inter = np.zeros((len(t_range),1),dtype=float)\n",
    "Sum_rF = np.zeros((len(t_range),1),dtype=float)\n",
    "last_renorm_time = 0\n",
    "\n",
    "l_mfp = 1/N*(L**dim)/(np.pi*N*(1**(dim-1))) #mean free path per particle\n",
    "sum_past = 0\n",
    "\n",
    "N_inter_tot = 0\n",
    "renorm_count = 0\n",
    "for i, t in enumerate(t_range):\n",
    "    \n",
    "    E_kin[i], E_pot[i] = pot_calc(U, v)\n",
    "    T_tot[i] = ((2*E_kin[i])/(3*(N-1)))\n",
    "    \n",
    "    t_mfp = l_mfp/(np.sqrt(2*E_kin[i]/N))\n",
    "    N_inter_tot += delta_t/t_mfp\n",
    "    \n",
    "    # Make this dependant on the particle speed\n",
    "    if N_inter_tot > inter_numb*N and renorm_count < 10:\n",
    "        v, last_renorm_time, renorm_check = temp_check(E_kin, E_pot, v, T_tot, i, conf_level, t, sum_past, last_renorm_time)\n",
    "        \n",
    "        if renorm_check == False:\n",
    "            renorm_count += 1\n",
    "            \n",
    "        N_inter_tot = 0\n",
    "        sum_past = cp.deepcopy(i) #redundant? -> no\n",
    "    \n",
    "    x, v, F_tot, U, r = xv_iteration(algorithm, x, v, F_tot, L, N, dim)\n",
    "    \n",
    "    Sum_rF[i] = np.sum(np.sum(x*F_tot, axis=0)) # Added for pressure determination\n",
    "    force[i,:,:] = F_tot.transpose()\n",
    "    vel[i,:,:] = v.transpose()\n",
    "    pos[i, :, :] = x.transpose()\n",
    "    differ[i,:,:] = r\n",
    "    \n",
    "end_time = time.time()\n",
    "print('Time:', end_time - start_time, 's')\n"
   ]
  },
  {
   "cell_type": "code",
   "execution_count": 18,
   "metadata": {},
   "outputs": [
    {
     "name": "stdout",
     "output_type": "stream",
     "text": [
      "Testmatrix (20, 5, 3)\n",
      "S1 (5, 3)\n"
     ]
    }
   ],
   "source": [
    "testmatrix = np.ones((20,5,3),dtype=float)\n",
    "print('Testmatrix',np.shape(testmatrix))\n",
    "S1 = np.sum(testmatrix,axis = 0)\n",
    "print('S1',np.shape(S1))"
   ]
  },
  {
   "cell_type": "code",
   "execution_count": 28,
   "metadata": {},
   "outputs": [
    {
     "name": "stdout",
     "output_type": "stream",
     "text": [
      "[[  167.97016213]\n",
      " [  359.98249124]\n",
      " [  547.38279743]\n",
      " [  729.24137864]\n",
      " [  903.49437547]\n",
      " [ 1049.69164752]\n",
      " [ 1200.99344201]\n",
      " [ 1336.49853534]\n",
      " [ 1452.98946262]\n",
      " [ 1548.24558224]]\n"
     ]
    }
   ],
   "source": [
    "np.shape(Sum_rF)\n",
    "print(Sum_rF[0:10])"
   ]
  },
  {
   "cell_type": "code",
   "execution_count": 4,
   "metadata": {},
   "outputs": [],
   "source": [
    "# Bootstrapping\n",
    "def btstrp_rnd_gen(trials, i, last_renorm_time):\n",
    "    N = i-last_renorm_time\n",
    "    a = np.round(np.random.random(trials*N).reshape(trials,N)*N+last_renorm_time)\n",
    "    return a.astype(int)"
   ]
  },
  {
   "cell_type": "code",
   "execution_count": 5,
   "metadata": {},
   "outputs": [],
   "source": [
    "trials = 100 #bootstrap trials\n",
    "btstrp_seq = btstrp_rnd_gen(trials, i, last_renorm_time)"
   ]
  },
  {
   "cell_type": "code",
   "execution_count": 6,
   "metadata": {},
   "outputs": [
    {
     "name": "stdout",
     "output_type": "stream",
     "text": [
      "C_v_ave = 2.80457903771\n",
      "C_v_sig = 0.0975734517087\n"
     ]
    }
   ],
   "source": [
    "# C_v\n",
    "C_v_pp = np.zeros((trials,1), dtype=float)\n",
    "for j in range(trials):\n",
    "    E_kin_ave = E_kin[btstrp_seq[j]].sum()/(i-last_renorm_time)\n",
    "    fluc = (((E_kin[btstrp_seq[j]]-E_kin_ave)**2).sum()/(i-last_renorm_time))/E_kin_ave**2\n",
    "    C_v[j] = 1/((2/(3*N))-fluc)/N\n",
    "            \n",
    "C_v_ave = C_v.sum()/trials\n",
    "C_v_sig = np.sqrt((C_v**2).sum()/trials - C_v_ave**2)\n",
    "print('C_v_ave =', C_v_ave)\n",
    "print('C_v_sig =', C_v_sig)"
   ]
  },
  {
   "cell_type": "code",
   "execution_count": 7,
   "metadata": {
    "scrolled": true
   },
   "outputs": [
    {
     "data": {
      "text/plain": [
       "\"\\nhist_tot = hist_tot/trials/(N*(N-1))\\nplt.plot(bin_edges[:-1],hist_tot)\\nplt.xlim([0,L/2])\\nplt.ylabel('g(r)')\\nplt.xlabel('r/sigma')\\nplt.show()\\n\""
      ]
     },
     "execution_count": 7,
     "metadata": {},
     "output_type": "execute_result"
    }
   ],
   "source": [
    "# auto correlation\n",
    "trials = 1 #bootstrapping not needed?!?\n",
    "btstrp_seq = btstrp_rnd_gen(trials, i, last_renorm_time)\n",
    "\n",
    "bin_number = int(100*L)\n",
    "hist_tot = np.zeros(bin_number-1,dtype=int)\n",
    "for j in range(trials):\n",
    "    diff_subset = differ[btstrp_seq[j]]\n",
    "    hist, bin_edges = np.histogram(diff_subset[diff_subset!=np.inf], bins = np.linspace(0,L,bin_number))\n",
    "    hist_tot += hist\n",
    "    \n",
    "'''\n",
    "hist_tot = hist_tot/trials/(N*(N-1))\n",
    "plt.plot(bin_edges[:-1],hist_tot)\n",
    "plt.xlim([0,L/2])\n",
    "plt.ylabel('g(r)')\n",
    "plt.xlabel('r/sigma')\n",
    "plt.show()\n",
    "'''"
   ]
  },
  {
   "cell_type": "code",
   "execution_count": 14,
   "metadata": {},
   "outputs": [
    {
     "name": "stdout",
     "output_type": "stream",
     "text": [
      "P_ave = -2.83509365047\n",
      "P_sig = 0.019576661645\n"
     ]
    }
   ],
   "source": [
    "# Pressure determination\n",
    "\n",
    "'''According to eq. 7.36 in Jos' book (beta*P/n)'''\n",
    "\n",
    "beta = 1 # k_b*T\n",
    "trials = 100\n",
    "btstrp_seq = btstrp_rnd_gen(trials, i, last_renorm_time)\n",
    "P = np.zeros((trials,1),dtype=float)\n",
    "\n",
    "for j in range(trials):\n",
    "    Sum_rF_ave = Sum_rF[btstrp_seq[j]].sum()/(i-last_renorm_time)\n",
    "    P[j] = 1-beta/(3*N)*Sum_rF_ave\n",
    "            \n",
    "P_ave = P.sum()/trials\n",
    "P_sig = np.sqrt((P**2).sum()/trials - P_ave**2)\n",
    "print('P_ave =', P_ave)\n",
    "print('P_sig =', P_sig)"
   ]
  },
  {
   "cell_type": "code",
   "execution_count": 132,
   "metadata": {
    "extensions": {
     "jupyter_dashboards": {
      "version": 1,
      "views": {
       "grid_default": {
        "col": 0,
        "height": 12,
        "hidden": false,
        "row": 0,
        "width": 4
       },
       "report_default": {
        "hidden": false
       }
      }
     }
    },
    "scrolled": true
   },
   "outputs": [
    {
     "data": {
      "image/png": "[encoded data removed]",
      "text/plain": [
       "<matplotlib.figure.Figure at 0x7f0803fc8128>"
      ]
     },
     "metadata": {},
     "output_type": "display_data"
    },
    {
     "data": {
      "image/png": "[encoded data removed]",
      "text/plain": [
       "<matplotlib.figure.Figure at 0x7f08602f22b0>"
      ]
     },
     "metadata": {},
     "output_type": "display_data"
    }
   ],
   "source": [
    "# Plotting of energy and temperature\n",
    "\n",
    "\n",
    "plt.plot(t_range,E_pot,'b')\n",
    "plt.plot(t_range,E_kin,'r')\n",
    "plt.plot(t_range,E_kin+E_pot,'y')\n",
    "plt.legend(['E_pot','E_kin','Summed'])\n",
    "plt.title(\"Plot of the enery's\")\n",
    "plt.xlabel('Time')\n",
    "plt.ylabel('Energy')\n",
    "plt.show()\n",
    "\n",
    "plt.plot(t_range,T_tot,'g')\n",
    "plt.plot(t_range,np.ones((len(t_range),1),dtype=float)*T,'y')\n",
    "plt.legend(['T_ave','Actual T'])\n",
    "plt.title(\"Plot of the temperature\")\n",
    "plt.xlabel('Time')\n",
    "plt.ylabel('T [K/119.8]')\n",
    "plt.show()\n",
    "\n"
   ]
  },
  {
   "cell_type": "code",
   "execution_count": null,
   "metadata": {
    "extensions": {
     "jupyter_dashboards": {
      "version": 1,
      "views": {
       "grid_default": {
        "col": 4,
        "height": 11,
        "hidden": false,
        "row": 0,
        "width": 5
       },
       "report_default": {
        "hidden": false
       }
      }
     }
    },
    "scrolled": false
   },
   "outputs": [],
   "source": [
    "# Make an animation\n",
    "\n",
    "from IPython.display import HTML\n",
    "\n",
    "anim = make_3d_animation(L, pos, delay=10, initial_view=(30, 20), rotate_on_play=0)\n",
    "HTML(anim.to_html5_video())"
   ]
  },
  {
   "cell_type": "code",
   "execution_count": null,
   "metadata": {},
   "outputs": [],
   "source": []
  }
 ],
 "metadata": {
  "extensions": {
   "jupyter_dashboards": {
    "activeView": "grid_default",
    "version": 1,
    "views": {
     "grid_default": {
      "cellMargin": 10,
      "defaultCellHeight": 20,
      "maxColumns": 12,
      "name": "grid",
      "type": "grid"
     },
     "report_default": {
      "name": "report",
      "type": "report"
     }
    }
   }
  },
  "kernelspec": {
   "display_name": "Python 3",
   "language": "python",
   "name": "python3"
  },
  "language_info": {
   "codemirror_mode": {
    "name": "ipython",
    "version": 3
   },
   "file_extension": ".py",
   "mimetype": "text/x-python",
   "name": "python",
   "nbconvert_exporter": "python",
   "pygments_lexer": "ipython3",
   "version": "3.6.2"
  }
 },
 "nbformat": 4,
 "nbformat_minor": 2
}
