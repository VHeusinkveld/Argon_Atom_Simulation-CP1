{
 "cells": [
  {
   "cell_type": "code",
   "execution_count": 202,
   "metadata": {
    "extensions": {
     "jupyter_dashboards": {
      "version": 1,
      "views": {
       "grid_default": {
        "hidden": true
       },
       "report_default": {}
      }
     }
    }
   },
   "outputs": [],
   "source": [
    "\"\"\"Lennard-Jones for specific atom\"\"\"\n",
    "\n",
    "import numpy as np\n",
    "\n",
    "class atom_props():\n",
    "    def __init__(self, sigma, epsilon):\n",
    "        self.sig = sigma\n",
    "        self.eps = epsilon\n",
    "\n",
    "def pot_LJ(atom,r):\n",
    "    sig = atom.sig\n",
    "    eps = atom.eps\n",
    "    return 4*eps*((sig/r)**12 - (sig/r)**6)   \n",
    "\n",
    "def pot_LJ_dl(r):\n",
    "    u = np.zeros(r.shape)\n",
    "    u[r != 0] = 4*((1/r[r != 0])**12 - (1/r[r != 0])**6)   \n",
    "    u[r == 0] = 0 \n",
    "    return u\n",
    "\n",
    "def grad_pot_LJ_dl(r):\n",
    "    u = np.zeros(r.shape)\n",
    "    u[r != 0] = -24*(2*(1/r[r != 0])**13 - (1/r[r != 0])**7)   \n",
    "    u[r == 0] = 0 \n",
    "    return u\n",
    "\n",
    "# Initiazlize box and particles\n",
    "def particle_generator(L, N, dim):\n",
    "    x = np.random.random((dim,N))*L\n",
    "    v = np.zeros((dim,N),dtype=float)\n",
    "    return (x,v)\n",
    "\n",
    "def particle_dist(L, N, x, dim):\n",
    "    # Particles NN, differences, coordinates\n",
    "\n",
    "    # Calcolate distances to NN\n",
    "    r = np.zeros((N,N),dtype=float)\n",
    "    NN_max_dist = L/2\n",
    "    xv = np.zeros((dim,N,N),dtype=float)\n",
    "    delta_tot = np.zeros((dim,N,N))\n",
    "    \n",
    "    for i in range(dim):\n",
    "        # Difference between coordinates per dimension\n",
    "        delta = x[i,:].reshape(1,N)-x[i,:].reshape(N,1)\n",
    "\n",
    "        # look for NN, define 'virtual' points\n",
    "        xv[i,:,:] =  np.tile(x[i,:].reshape(N,1),N)\n",
    "        xv[i][delta > NN_max_dist] = L + xv[i][delta > NN_max_dist] \n",
    "        xv[i][delta < -NN_max_dist] = -L + xv[i][delta < -NN_max_dist] \n",
    "\n",
    "        # New difference including 'virtual' coordinates\n",
    "        delta[delta > NN_max_dist] = -L + delta[delta > NN_max_dist]\n",
    "        delta[delta < -NN_max_dist] = L + delta[delta < -NN_max_dist]\n",
    "       \n",
    "        delta_tot[i] = delta\n",
    "        r += delta**2   \n",
    "        r = np.sqrt(r) \n",
    "        \n",
    "    return (delta_tot, r)\n",
    "\n",
    "def pot_and_force(delta_tot, r, dim, N):\n",
    "    # Potentials and Forces\n",
    "    F = np.zeros((dim,N,N),dtype=float)\n",
    "    U = pot_LJ_dl(r)\n",
    "    \n",
    "    for i in range(dim):\n",
    "        F[i][r != 0] = -grad_pot_LJ_dl(r[r != 0])*delta_tot[i][r != 0]/(r[r != 0])\n",
    "    \n",
    "    return(F, U)"
   ]
  },
  {
   "cell_type": "code",
   "execution_count": 203,
   "metadata": {
    "extensions": {
     "jupyter_dashboards": {
      "version": 1,
      "views": {
       "grid_default": {
        "hidden": true
       },
       "report_default": {}
      }
     }
    }
   },
   "outputs": [
    {
     "data": {
      "text/plain": [
       "<matplotlib.text.Text at 0x7f67957fd6d8>"
      ]
     },
     "execution_count": 203,
     "metadata": {},
     "output_type": "execute_result"
    }
   ],
   "source": [
    "# Plotting the potential for Argon\n",
    "import matplotlib.pyplot as plt\n",
    "k_b = 1.38e-23\n",
    "argon = atom_props(3.405e-10, k_b*119.8)        \n",
    "\n",
    "x_t = np.linspace(0.9,5,1000)\n",
    "u_t = pot_LJ_DL(x_t);\n",
    "\n",
    "plt.plot(x_t,u_t)\n",
    "plt.xlabel(r'Distance r/$\\sigma$')\n",
    "plt.ylabel(r'Energy u/$\\epsilon$')\n",
    "\n",
    "   "
   ]
  },
  {
   "cell_type": "code",
   "execution_count": 204,
   "metadata": {
    "extensions": {
     "jupyter_dashboards": {
      "version": 1,
      "views": {
       "grid_default": {
        "hidden": true
       },
       "report_default": {}
      }
     }
    }
   },
   "outputs": [],
   "source": [
    "L = 10 # Box size\n",
    "N = 3 # partciles\n",
    "dim = 2 # Dimensions of the probem\n",
    "\n",
    "(x, v) = particle_generator(L, N, dim)\n",
    "(delta_tot, r) = particle_dist(L, N, x, dim)\n",
    "(F, U) = pot_and_force(delta_tot, r, dim, N)\n",
    "\n",
    "\n"
   ]
  },
  {
   "cell_type": "markdown",
   "metadata": {},
   "source": [
    "##### Steps to be taken\n",
    "\n",
    "    * U\n",
    "    * F\n",
    "    * vn+1\n",
    "    * xn+1     "
   ]
  },
  {
   "cell_type": "code",
   "execution_count": 140,
   "metadata": {},
   "outputs": [],
   "source": [
    "\n",
    "    \n"
   ]
  }
 ],
 "metadata": {
  "extensions": {
   "jupyter_dashboards": {
    "activeView": "grid_default",
    "version": 1,
    "views": {
     "grid_default": {
      "cellMargin": 10,
      "defaultCellHeight": 20,
      "maxColumns": 12,
      "name": "grid",
      "type": "grid"
     },
     "report_default": {
      "name": "report",
      "type": "report"
     }
    }
   }
  },
  "kernelspec": {
   "display_name": "Python 3",
   "language": "python",
   "name": "python3"
  },
  "language_info": {
   "codemirror_mode": {
    "name": "ipython",
    "version": 3
   },
   "file_extension": ".py",
   "mimetype": "text/x-python",
   "name": "python",
   "nbconvert_exporter": "python",
   "pygments_lexer": "ipython3",
   "version": "3.6.2"
  }
 },
 "nbformat": 4,
 "nbformat_minor": 2
}
