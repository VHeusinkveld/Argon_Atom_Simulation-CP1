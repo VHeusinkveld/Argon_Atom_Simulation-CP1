{
 "cells": [
  {
   "cell_type": "code",
   "execution_count": 126,
   "metadata": {
    "extensions": {
     "jupyter_dashboards": {
      "version": 1,
      "views": {
       "grid_default": {
        "hidden": true
       },
       "report_default": {}
      }
     }
    }
   },
   "outputs": [],
   "source": [
    "\"\"\"Lennard-Jones for specific atom\"\"\"\n",
    "\n",
    "import numpy as np\n",
    "\n",
    "class atom_props():\n",
    "    def __init__(self, sigma, epsilon):\n",
    "        self.sig = sigma\n",
    "        self.eps = epsilon\n",
    "\n",
    "def pot_LJ(atom,r):\n",
    "    sig = atom.sig\n",
    "    eps = atom.eps\n",
    "    return 4*eps*((sig/r)**12 - (sig/r)**6)   \n",
    "\n",
    "def pot_LJ_dl(r):\n",
    "    u = np.zeros(r.shape)\n",
    "    u[r != 0] = 4*((1/r[r != 0])**12 - (1/r[r != 0])**6)   \n",
    "    u[r == 0] = 0 \n",
    "    return u\n",
    "\n",
    "def grad_pot_LJ_dl(r):\n",
    "    u = np.zeros(r.shape)\n",
    "    u[r != 0] = -24*(2*(1/r[r != 0])**13 - (1/r[r != 0])**7)   \n",
    "    u[r == 0] = 0 \n",
    "    return u\n",
    "\n",
    "# Initiazlize box and particles\n",
    "def particle_generator(L, N, dim):\n",
    "    x_init = np.random.random((dim,N))*L\n",
    "    v_init = np.zeros((dim,N),dtype=float)\n",
    "    return x_init, v_init\n",
    "\n",
    "def particle_dist(L, N, x, dim):\n",
    "    # Particles NN, differences, coordinates\n",
    "\n",
    "    # Calcolate distances to NN\n",
    "    r = np.zeros((N,N),dtype=float)\n",
    "    NN_max_dist = L/2\n",
    "    # xv = np.zeros((dim,N,N),dtype=float)\n",
    "    delta_tot = np.zeros((dim,N,N))\n",
    "    \n",
    "    for i in range(dim):\n",
    "        # Difference between coordinates per dimension\n",
    "        delta = x[i,:]-np.transpose([x[i,:]])\n",
    "        '''\n",
    "        # look for NN, define 'virtual' points\n",
    "        xv[i,:,:] =  np.tile(x[i,:].reshape(N,1),N)\n",
    "        xv[i][delta > NN_max_dist] = L + xv[i][delta > NN_max_dist] \n",
    "        xv[i][delta < -NN_max_dist] = -L + xv[i][delta < -NN_max_dist] \n",
    "        '''\n",
    "        # New difference including 'virtual' coordinates\n",
    "        delta[delta > NN_max_dist] = -delta[delta > NN_max_dist]%L\n",
    "        delta[delta < -NN_max_dist] = delta[delta < -NN_max_dist]%L\n",
    "       \n",
    "        delta_tot[i] = delta\n",
    "        r += delta**2   \n",
    "        r = np.sqrt(r) \n",
    "        \n",
    "    return delta_tot, r\n",
    "\n",
    "def pot_and_force(delta_tot, r, dim, N):\n",
    "    # Potentials and Forces\n",
    "    F = np.zeros((dim,N,N),dtype=float)\n",
    "    U = pot_LJ_dl(r)\n",
    "    \n",
    "    for i in range(dim):\n",
    "        F[i][r != 0] = -grad_pot_LJ_dl(r[r != 0])*delta_tot[i][r != 0]/(r[r != 0])\n",
    "   \n",
    "    F_sum = F.sum(axis=1)\n",
    "   \n",
    "    return F_sum, U"
   ]
  },
  {
   "cell_type": "code",
   "execution_count": 2,
   "metadata": {
    "extensions": {
     "jupyter_dashboards": {
      "version": 1,
      "views": {
       "grid_default": {
        "hidden": true
       },
       "report_default": {}
      }
     }
    }
   },
   "outputs": [
    {
     "data": {
      "text/plain": [
       "<matplotlib.text.Text at 0x7f13f9756630>"
      ]
     },
     "execution_count": 2,
     "metadata": {},
     "output_type": "execute_result"
    }
   ],
   "source": [
    "# Plotting the potential for Argon\n",
    "import matplotlib.pyplot as plt\n",
    "k_b = 1.38e-23\n",
    "argon = atom_props(3.405e-10, k_b*119.8)        \n",
    "\n",
    "x_t = np.linspace(0.9,5,1000)\n",
    "u_t = pot_LJ_dl(x_t);\n",
    "\n",
    "plt.plot(x_t,u_t)\n",
    "plt.xlabel(r'Distance r/$\\sigma$')\n",
    "plt.ylabel(r'Energy u/$\\epsilon$')\n",
    "\n",
    "\n",
    "   "
   ]
  },
  {
   "cell_type": "code",
   "execution_count": 240,
   "metadata": {},
   "outputs": [],
   "source": [
    "\n",
    "# Initial positions\n",
    "L = 5 # Box size\n",
    "N = 3 # partciles\n",
    "dim = 2 # Dimensions of the probem\n",
    "\n",
    "x_init, v_init = particle_generator(L, N, dim) \n"
   ]
  },
  {
   "cell_type": "code",
   "execution_count": 321,
   "metadata": {
    "extensions": {
     "jupyter_dashboards": {
      "version": 1,
      "views": {
       "grid_default": {
        "hidden": true
       },
       "report_default": {}
      }
     }
    }
   },
   "outputs": [
    {
     "data": {
      "image/png": "[encoded data removed]",
      "text/plain": [
       "<matplotlib.figure.Figure at 0x7f13f843df60>"
      ]
     },
     "metadata": {},
     "output_type": "display_data"
    }
   ],
   "source": [
    "import copy as cp\n",
    "\n",
    "delta_t = 1e-3\n",
    "t_range = np.arange(0, 1500*delta_t, delta_t)\n",
    "\n",
    "x = cp.deepcopy(x_init)\n",
    "v = cp.deepcopy(v_init)\n",
    "\n",
    "for t in t_range:\n",
    "    delta_tot, r = particle_dist(L, N, x, dim)\n",
    "    F, U = pot_and_force(delta_tot, r, dim, N)\n",
    "    step_size = abs((v * delta_t)).any() > 0.3\n",
    "    x += v * delta_t\n",
    "    v += F * delta_t\n",
    "    x[x > L] = (x[x > L]%L)\n",
    "    x[x < 0] = abs((x[x < 0]%L))\n",
    "    plt.plot(x[0,0],x[1,0],'go')\n",
    "    plt.plot(x[0,1],x[1,1],'yo')\n",
    "    plt.plot(x[0,2],x[1,2],'bo')\n",
    "    \n",
    "    if step_size:\n",
    "        for i in range(N):\n",
    "            plt.plot([x[0,i],x[0,i]+F[0,i]/sum(sum(abs(F)))],[x[1,i],x[1,i]+F[1,i]/sum(sum(abs(F)))])\n",
    "            \n",
    "plt.show()"
   ]
  },
  {
   "cell_type": "code",
   "execution_count": null,
   "metadata": {},
   "outputs": [],
   "source": []
  }
 ],
 "metadata": {
  "extensions": {
   "jupyter_dashboards": {
    "activeView": "grid_default",
    "version": 1,
    "views": {
     "grid_default": {
      "cellMargin": 10,
      "defaultCellHeight": 20,
      "maxColumns": 12,
      "name": "grid",
      "type": "grid"
     },
     "report_default": {
      "name": "report",
      "type": "report"
     }
    }
   }
  },
  "kernelspec": {
   "display_name": "Python 3",
   "language": "python",
   "name": "python3"
  },
  "language_info": {
   "codemirror_mode": {
    "name": "ipython",
    "version": 3
   },
   "file_extension": ".py",
   "mimetype": "text/x-python",
   "name": "python",
   "nbconvert_exporter": "python",
   "pygments_lexer": "ipython3",
   "version": "3.6.2"
  }
 },
 "nbformat": 4,
 "nbformat_minor": 2
}
