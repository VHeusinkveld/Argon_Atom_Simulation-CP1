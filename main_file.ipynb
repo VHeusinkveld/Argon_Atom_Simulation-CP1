{
 "cells": [
  {
   "cell_type": "code",
   "execution_count": 1351,
   "metadata": {
    "extensions": {
     "jupyter_dashboards": {
      "version": 1,
      "views": {
       "grid_default": {
        "hidden": true
       },
       "report_default": {}
      }
     }
    }
   },
   "outputs": [],
   "source": [
    "\"\"\"Lennard-Jones for specific atom\"\"\"\n",
    "\n",
    "import numpy as np\n",
    "import copy as cp\n",
    "import matplotlib.pyplot as plt\n",
    "from make_animation import make_3d_animation\n",
    "\n",
    "class atom_props():\n",
    "    \"\"\"Sets atom properties\"\"\"\n",
    "    def __init__(self, sigma, epsilon, mass):\n",
    "        self.sig = sigma\n",
    "        self.eps = epsilon\n",
    "        self.m = mass\n",
    "\n",
    "def pot_LJ(atom,r):\n",
    "    sig = atom.sig\n",
    "    eps = atom.eps\n",
    "    return 4*eps*((sig/r)**12 - (sig/r)**6)   \n",
    "\n",
    "def pot_LJ_dl(r):\n",
    "    r = r**-6\n",
    "    u = 4*(r**2 - r)        \n",
    "    return u\n",
    "\n",
    "def grad_pot_LJ_dl(r):\n",
    "    \"\"\"Gradient of the Lennard Jones potential, dimensionless\"\"\"\n",
    "    return -48*r**-13 + 24*r**-7 \n",
    "\n",
    "def particle_generator(lattice, L, N, dim):\n",
    "    \"\"\"Generates initial particle position and velocity.\n",
    "    \n",
    "    Parameters:\n",
    "    -----------\n",
    "    lattice: string\n",
    "        random: arbitrary ammount of particles and dimensions randomly distributed \n",
    "        fcc: 3d 4 particles on fcc lattice \n",
    "    L: float\n",
    "        size of the simulation box\n",
    "    N: int\n",
    "        Number of particles, should be four \n",
    "    dim: int\n",
    "        Number of dimensions, should be 3      \n",
    "    \"\"\"\n",
    "    if lattice == \"random\":\n",
    "        x_init = np.random.random((dim,N))*L\n",
    "        \n",
    "    if lattice == \"fcc\":\n",
    "        \n",
    "        if (N%4 == 0 or N ==1 ) and dim == 3:\n",
    "            initial_unit_cell = np.array([[0,0,unit_size/2,unit_size/2],\n",
    "                                          [0,unit_size/2,0,unit_size/2],\n",
    "                                          [0,unit_size/2,unit_size/2,0]])\n",
    "            arr = np.array([arr.flatten() for arr in np.meshgrid(a,a,a)])\n",
    "            fcc_coordinates = np.array([[],[],[]])\n",
    "            for j in range(unit_power**3):\n",
    "                temp = np.array([])\n",
    "                for i in range(dim):\n",
    "                    temp = np.concatenate([temp, initial_unit_cell[i] + arr[i, j] ])\n",
    "                temp = temp.reshape(3,-1)\n",
    "                fcc_coordinates = np.concatenate([fcc_coordinates, temp], axis = 1)\n",
    "\n",
    "                x_init = fcc_coordinates\n",
    "        else:\n",
    "            print('The dimension is not equal to 3 or the number of particles doesnt equal four.')\n",
    "            import sys\n",
    "            sys.exit()\n",
    "            \n",
    "    # v_init = np.zeros((dim,N),dtype=float)\n",
    "    # Initial velocity chosen gaussian\n",
    "    v_init = np.random.normal(0, np.sqrt((k_b*T)/argon.eps), (dim,N))\n",
    "    return x_init, v_init\n",
    "\n",
    "\n",
    "def particle_dist(L, N, x, dim):\n",
    "    \"\"\"\"Calculate distances between NN particle pairs\n",
    "    \n",
    "    Parameters:\n",
    "    -----------\n",
    "    L: float\n",
    "        size of the simulation box\n",
    "    N: int\n",
    "        Number of particles\n",
    "    x: array of size (N, dim)\n",
    "        Particle places   \n",
    "    dim: int\n",
    "        Number of dimensions  \n",
    "    \"\"\"\n",
    "    # Calcolate distances to NN\n",
    "    r = np.zeros((N,N),dtype=float)\n",
    "    delta_tot = np.zeros((dim,N,N),dtype=float)\n",
    "    NN_max_dist = L/2       \n",
    "    \n",
    "    for i in range(dim):\n",
    "        # Difference between coordinates per dimension\n",
    "        delta = x[i,:]-np.transpose([x[i,:]])\n",
    "        \n",
    "        # New difference including 'virtu=al' coordinates\n",
    "        delta[delta >= NN_max_dist] = -(L-delta[delta >= NN_max_dist])\n",
    "        delta[delta < -NN_max_dist] = (L + delta[delta < -NN_max_dist])\n",
    "        delta_tot[i] = delta\n",
    "        r += delta**2   \n",
    "    r = np.sqrt(r) \n",
    "    r[r == 0] = np.inf\n",
    "    return delta_tot, r\n",
    "\n",
    "def pot_and_force(delta_tot, r, dim, N):\n",
    "    \"\"\"Calculate forces between particles based on potential\n",
    "    \n",
    "    Parameters:\n",
    "    -----------\n",
    "    delta_tot: array of size (dim, N, N)\n",
    "        Differenes between particles\n",
    "    r: array of size (N, N)\n",
    "        inter particle distances\n",
    "    dim: int\n",
    "        Number of dimensions  \n",
    "    N: int\n",
    "        Number of particles\n",
    "    \"\"\"\n",
    "    # Potentials and Forces\n",
    "    F = np.zeros((dim,N,N),dtype=float)\n",
    "    U = sum(pot_LJ_dl(r).sum(axis=1))\n",
    "    for i in range(dim):\n",
    "        F[i] = -grad_pot_LJ_dl(r)*delta_tot[i]/r\n",
    "    \n",
    "    F_sum = F.sum(axis=1)\n",
    "    return F_sum, U\n",
    "\n",
    "def xv_iteration(algorithm, x, v, F_tot_old):\n",
    "    \"\"\"Euler or verlet arlgorithm for position and velocity\"\"\"\n",
    "    \n",
    "    \n",
    "    if algorithm == \"euler\":\n",
    "        delta_tot, r = particle_dist(L, N, x, dim)\n",
    "        F_tot, U = pot_and_force(delta_tot, r, dim, N)\n",
    "        x = (x + v * delta_t)%L\n",
    "        v = v + F_tot * delta_t\n",
    "        \n",
    "    if algorithm == \"verlet\":\n",
    "        x = (x + v * delta_t + 0.5*delta_t**2 * F_tot_old)%L\n",
    "        delta_tot, r = particle_dist(L, N, x, dim)\n",
    "        F_tot, U = pot_and_force(delta_tot, r, dim, N)\n",
    "        v = v + 0.5*delta_t * (F_tot + F_tot_old)\n",
    "            \n",
    "    return x, v, F_tot, U.sum() \n",
    "\n",
    "def temp_check(E_kin, E_pot, v, T_tot, i):\n",
    "    past_period = int(1/delta_t)\n",
    "    T_ave = (T_tot[i-past_period:i].sum())/past_period\n",
    "    T_squ = (((T_tot[i-past_period:i])**2).sum())/past_period\n",
    "    T_std = np.sqrt(T_squ - (T_ave)**2)  \n",
    "    if (T < T_ave - 2*T_std or T > T_ave + 2*T_std):\n",
    "        lam = np.sqrt(((dim-1)*3*k_b*T)/(argon.eps*E_kin[i]))\n",
    "        v = lam * v\n",
    "    \n",
    "    return v\n",
    "\n",
    "def pot_calc(U, v):\n",
    "    E_pot = U.sum()\n",
    "    E_kin = (v**2).sum(axis=1).sum(axis=0)\n",
    "    return E_kin, E_pot\n",
    "    "
   ]
  },
  {
   "cell_type": "code",
   "execution_count": 1317,
   "metadata": {},
   "outputs": [],
   "source": [
    "# Parameters\n",
    "T = 300 # in Kelvin!\n",
    "k_b = 1.38e-23\n",
    "argon = atom_props(3.405e-10, k_b*119.8, 6.6e-26)    \n",
    "mass = argon.m\n",
    "\n",
    "# Initial positions\n",
    "unit_power = 2\n",
    "unit_cells = unit_power**3\n",
    "unit_size = 1.9\n",
    "L = unit_size*(unit_power) # Box size\n",
    "N = 4*unit_cells # partciles\n",
    "dim = 3 # Dimensions of the probem\n",
    "\n",
    "lattice = \"fcc\" # fcc or random\n",
    "algorithm = \"verlet\" #euler or velvet\n",
    "\n",
    "x_init, v_init = particle_generator(lattice,L, N, dim)\n"
   ]
  },
  {
   "cell_type": "code",
   "execution_count": 1352,
   "metadata": {
    "extensions": {
     "jupyter_dashboards": {
      "version": 1,
      "views": {
       "grid_default": {
        "hidden": true
       },
       "report_default": {}
      }
     }
    },
    "scrolled": true
   },
   "outputs": [],
   "source": [
    "delta_t = 1e-3\n",
    "t_max = 10000*delta_t\n",
    "\n",
    "t_range = np.arange(0, t_max, delta_t)\n",
    "x = cp.deepcopy(x_init)\n",
    "v = cp.deepcopy(v_init)\n",
    "\n",
    "pos = np.zeros((len(t_range),N,dim),dtype=float)\n",
    "\n",
    "delta_tot, r = particle_dist(L, N, x, dim)\n",
    "F_tot, U = pot_and_force(delta_tot, r, dim, N)\n",
    "E_pot = np.zeros((len(t_range),1),dtype=float)\n",
    "E_kin = np.zeros((len(t_range),1),dtype=float)\n",
    "T_tot = np.zeros((len(t_range),1),dtype=float)\n",
    "\n",
    "for i, t in enumerate(t_range):\n",
    "    \n",
    "    E_kin[i], E_pot[i] = pot_calc(U, v)\n",
    "    T_tot[i] = (argon.eps/(3*(dim-1)*k_b)*v**2).sum(axis=1).sum(axis=0)  \n",
    "    \n",
    "    # Make this dependant on the particle speed\n",
    "    if t%0.1 == 0:\n",
    "        v = temp_check(E_kin, E_pot, v, T_tot, i)\n",
    "        \n",
    "    x, v, F_tot, U = xv_iteration(algorithm, x, v, F_tot)\n",
    "    pos[i, :, :] = x.transpose()\n",
    " "
   ]
  },
  {
   "cell_type": "code",
   "execution_count": 1353,
   "metadata": {
    "scrolled": true
   },
   "outputs": [
    {
     "data": {
      "image/png": "[encoded data removed]",
      "text/plain": [
       "<matplotlib.figure.Figure at 0x7f4c345c39e8>"
      ]
     },
     "metadata": {},
     "output_type": "display_data"
    },
    {
     "data": {
      "image/png": "[encoded data removed]",
      "text/plain": [
       "<matplotlib.figure.Figure at 0x7f4c26391400>"
      ]
     },
     "metadata": {},
     "output_type": "display_data"
    }
   ],
   "source": [
    "plt.plot(t_range,E_pot,'b')\n",
    "plt.plot(t_range,E_kin,'r')\n",
    "plt.plot(t_range,E_kin+E_pot,'y')\n",
    "\n",
    "plt.show()\n",
    "\n",
    "plt.plot(t_range,T_tot,'g')\n",
    "plt.plot(t_range,np.ones((len(t_range),1),dtype=float)*T,'y')\n",
    "\n",
    "plt.show()\n",
    "\n"
   ]
  },
  {
   "cell_type": "code",
   "execution_count": null,
   "metadata": {
    "scrolled": true
   },
   "outputs": [],
   "source": [
    "from IPython.display import HTML\n",
    "\n",
    "anim = make_3d_animation(L, pos, delay=10, initial_view=(30, 20), rotate_on_play=0)\n",
    "HTML(anim.to_html5_video())"
   ]
  },
  {
   "cell_type": "code",
   "execution_count": null,
   "metadata": {},
   "outputs": [],
   "source": []
  }
 ],
 "metadata": {
  "extensions": {
   "jupyter_dashboards": {
    "activeView": "grid_default",
    "version": 1,
    "views": {
     "grid_default": {
      "cellMargin": 10,
      "defaultCellHeight": 20,
      "maxColumns": 12,
      "name": "grid",
      "type": "grid"
     },
     "report_default": {
      "name": "report",
      "type": "report"
     }
    }
   }
  },
  "kernelspec": {
   "display_name": "Python 3",
   "language": "python",
   "name": "python3"
  },
  "language_info": {
   "codemirror_mode": {
    "name": "ipython",
    "version": 3
   },
   "file_extension": ".py",
   "mimetype": "text/x-python",
   "name": "python",
   "nbconvert_exporter": "python",
   "pygments_lexer": "ipython3",
   "version": "3.6.2"
  }
 },
 "nbformat": 4,
 "nbformat_minor": 2
}
