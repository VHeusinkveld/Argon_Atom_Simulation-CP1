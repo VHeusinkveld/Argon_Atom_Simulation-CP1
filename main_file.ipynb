{
 "cells": [
  {
   "cell_type": "code",
   "execution_count": null,
   "metadata": {
    "extensions": {
     "jupyter_dashboards": {
      "version": 1,
      "views": {
       "grid_default": {
        "hidden": true
       },
       "report_default": {
        "hidden": true
       }
      }
     }
    }
   },
   "outputs": [],
   "source": [
    "from make_animation import make_3d_animation\n",
    "from argon_calculation import *\n",
    "import time as tm\n",
    "\n",
    "# Data processing \n",
    "figure_directory = './exported_figs/'\n",
    "data_directory = './exported_data/'\n",
    "data_name_identifyer = 'N864_Pressure_09rho'     # Specify what data is contained\n",
    "data_header = ['N', 'T','T_sim', 'Rho', 'C_v', 'C_v_sig', 'P', 'P_sig', 'Data_points', 'Run_time']\n",
    "write_data(data_directory, data_name_identifyer, data_header)\n",
    "significance = 5\n",
    "    \n",
    "# Configuration of the simulation\n",
    "\n",
    "## Parameters\n",
    "# sequence of [[T, Rho],...] \n",
    "TRho = [[2.89,0.85],[2.2,0.85],[1.21,0.85],[1.13,0.85],[0.88,0.85],\n",
    "        [2.84,0.75],[0.827,0.75],[4.62,0.45],[2.93,0.45],[1.71,0.45],\n",
    "        [1.51,0.45],[0.99,0.88],[1.01,0.8],[1.014,0.7],[0.5,1.2],\n",
    "        [1,0.8],[3,0.3],[1.06,0.827]] \n",
    "\n",
    "delta_t = 4e-3                     # Time step size in simulation\n",
    "time_steps = 5001                  # Time steps in simulation\n",
    "t_max = time_steps*delta_t         # Maximum simulation time\n",
    "\n",
    "## Defining the geometry \n",
    "unit_power = 6                     # amount of cells alone 1 axis (drawn from 'xyz'), N = N_unit * unit_power^3\n",
    "N_unit = 4                         # 4 partciles per unit cell for fcc\n",
    "dim = 3                            # dimensions of the problem, fcc should use 3D\n",
    "lattice = \"fcc\"                    # fcc or random\n",
    "algorithm = \"verlet\"               # euler or verlet\n",
    "\n",
    "## Renormalization parameters\n",
    "conf_level = 1                     # amount of standard deviations from the average temperature\n",
    "inter_numb = 1                     # number of interactions per particle\n",
    "renorm_count_max = 25              # times that renorm function was called but no renorm was necesary (already correct T)\n",
    "equi_data = 2000                   # datapoints wanted in equilibrium position\n",
    "\n",
    "## Paircorrelationn\n",
    "bin_resolution = 100               # Number of bins per 1 unit cell\n",
    "\n",
    "## Bootstrap parameters\n",
    "trials = 1000\n",
    "pair_cor_trials = 1\n",
    "\n",
    "for T, density in TRho:\n",
    "    start_time = tm.time()\n",
    "            \n",
    "    unit_cells, unit_size, L, N = init_cells(unit_power, N_unit, density) # Initialize geometry\n",
    "    bin_number = int(bin_resolution*L)\n",
    "    bin_delta = (L-0)/bin_number\n",
    "\n",
    "    # Main calculation\n",
    "    E_kin, E_pot, T_tot, pos, Sum_rF, differ_bins, last_data_iteration,\\\n",
    "    last_renorm_time, bins, bin_edges, t_range = argon_simu(\n",
    "        t_max, delta_t, L, N, dim, lattice, algorithm, conf_level, \n",
    "        inter_numb, renorm_count_max, equi_data, bin_resolution,\n",
    "        bin_number, bin_delta, unit_cells, unit_power, unit_size, T)\n",
    "    \n",
    "    end_time = tm.time()\n",
    "    total_time = end_time - start_time\n",
    "    print('N =',N,',','# Time steps = ',last_data_iteration)\n",
    "    print('Simulation time:', np.round(total_time,2), 's')\n",
    "    \n",
    "    # Data processing\n",
    "    ## Bootstrap sequence\n",
    "    btstrp_seq = btstrp_rnd_gen(trials, last_data_iteration, last_renorm_time)\n",
    "\n",
    "    ## C_v, P & Pair correlation \n",
    "    P_ave, P_sig = pressure(trials, btstrp_seq, last_data_iteration, last_renorm_time, Sum_rF, N, T)\n",
    "    C_v_ave, C_v_sig = specific_heat(trials, btstrp_seq, last_data_iteration, last_renorm_time, E_kin, N)\n",
    "    pair_cor_x, pair_cor_y = pair_correlation(pair_cor_trials, last_data_iteration, last_renorm_time, differ_bins, bin_number, L, N, bin_delta, bins, bin_edges)\n",
    "    \n",
    "    ## Write data to csv\n",
    "    T_simulation = np.round(np.sum(T_tot[last_renorm_time:last_data_iteration])/(last_data_iteration-last_renorm_time),4)\n",
    "    data_row = [N, T, T_simulation,density, np.round(C_v_ave,significance), np.round(C_v_sig,significance), np.round(P_ave,significance), np.round(P_sig,significance),last_data_iteration-last_renorm_time, round(total_time)]\n",
    "    append_data(data_directory, data_name_identifyer, data_row)\n",
    "    \n",
    "    ## Plotting + writing to specified directory\n",
    "    figure_filename = write_figure(figure_directory, N, T, density)\n",
    "    plot_pair_cor(pair_cor_x, pair_cor_y, L, figure_filename)\n",
    "    plot_energy(t_range, N, E_pot, E_kin, last_data_iteration, delta_t, figure_filename)\n",
    "    plot_temperature(t_range, T_tot, T, last_data_iteration, delta_t, figure_filename)\n",
    "    \n",
    "    print('')\n",
    "    print('P_ave =', np.round(P_ave,3),',','P_sig =', np.round(P_sig,3))\n",
    "    print('C_v_ave =', np.round(C_v_ave,3),',','C_v_sig =', np.round(C_v_sig,3))\n",
    "    print('______________________________________________')"
   ]
  },
  {
   "cell_type": "code",
   "execution_count": null,
   "metadata": {
    "extensions": {
     "jupyter_dashboards": {
      "version": 1,
      "views": {
       "grid_default": {
        "col": 4,
        "height": 11,
        "hidden": false,
        "row": 0,
        "width": 5
       },
       "report_default": {
        "hidden": false
       }
      }
     }
    },
    "scrolled": false
   },
   "outputs": [],
   "source": [
    "# Make an animation\n",
    "\n",
    "from IPython.display import HTML\n",
    "\n",
    "anim = make_3d_animation(L, pos, delay=10, initial_view=(30, 20), rotate_on_play=0)\n",
    "HTML(anim.to_html5_video())"
   ]
  },
  {
   "cell_type": "code",
   "execution_count": null,
   "metadata": {},
   "outputs": [],
   "source": []
  }
 ],
 "metadata": {
  "extensions": {
   "jupyter_dashboards": {
    "activeView": "grid_default",
    "version": 1,
    "views": {
     "grid_default": {
      "cellMargin": 10,
      "defaultCellHeight": 20,
      "maxColumns": 12,
      "name": "grid",
      "type": "grid"
     },
     "report_default": {
      "name": "report",
      "type": "report"
     }
    }
   }
  },
  "kernelspec": {
   "display_name": "Python 3",
   "language": "python",
   "name": "python3"
  },
  "language_info": {
   "codemirror_mode": {
    "name": "ipython",
    "version": 3
   },
   "file_extension": ".py",
   "mimetype": "text/x-python",
   "name": "python",
   "nbconvert_exporter": "python",
   "pygments_lexer": "ipython3",
   "version": "3.6.2"
  }
 },
 "nbformat": 4,
 "nbformat_minor": 2
}
