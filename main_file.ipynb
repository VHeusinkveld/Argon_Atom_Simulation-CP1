{
 "cells": [
  {
   "cell_type": "code",
   "execution_count": 633,
   "metadata": {
    "extensions": {
     "jupyter_dashboards": {
      "version": 1,
      "views": {
       "grid_default": {
        "hidden": true
       },
       "report_default": {}
      }
     }
    }
   },
   "outputs": [],
   "source": [
    "\"\"\"Lennard-Jones for specific atom\"\"\"\n",
    "\n",
    "import numpy as np\n",
    "\n",
    "class atom_props():\n",
    "    def __init__(self, sigma, epsilon):\n",
    "        self.sig = sigma\n",
    "        self.eps = epsilon\n",
    "\n",
    "def pot_LJ(atom,r):\n",
    "    sig = atom.sig\n",
    "    eps = atom.eps\n",
    "    return 4*eps*((sig/r)**12 - (sig/r)**6)   \n",
    "\n",
    "def pot_LJ_dl(r):\n",
    "    u = np.zeros(r.shape)\n",
    "    u[r != 0] = 4*((1/r[r != 0])**12 - (1/r[r != 0])**6)   \n",
    "    u[r == 0] = 0 \n",
    "    return u\n",
    "\n",
    "def grad_pot_LJ_dl(r):\n",
    "    u = np.zeros(r.shape)\n",
    "    u[r != 0] = -24*(2*(1/r[r != 0])**13 - (1/r[r != 0])**7)   \n",
    "    u[r == 0] = 0 \n",
    "    return u\n",
    "\n",
    "# Initiazlize box and particles\n",
    "def particle_generator(L, N, dim):\n",
    "    x_init = np.random.random((dim,N))*L\n",
    "    v_init = np.zeros((dim,N),dtype=float)\n",
    "    return x_init, v_init\n",
    "\n",
    "def particle_dist(L, N, x, dim):\n",
    "    # Particles NN, differences, coordinates\n",
    "\n",
    "    # Calcolate distances to NN\n",
    "    r = np.zeros((N,N),dtype=float)\n",
    "    NN_max_dist = L/2\n",
    "    # xv = np.zeros((dim,N,N),dtype=float)\n",
    "    delta_tot = np.zeros((dim,N,N))\n",
    "    \n",
    "    for i in range(dim):\n",
    "        # Difference between coordinates per dimension\n",
    "        delta = x[i,:]-np.transpose([x[i,:]])\n",
    "        '''\n",
    "        # look for NN, define 'virtual' points\n",
    "        xv[i,:,:] =  np.tile(x[i,:].reshape(N,1),N)\n",
    "        xv[i][delta > NN_max_dist] = L + xv[i][delta > NN_max_dist] \n",
    "        xv[i][delta < -NN_max_dist] = -L + xv[i][delta < -NN_max_dist] \n",
    "        '''\n",
    "        # New difference including 'virtu=al' coordinates\n",
    "        delta[delta > NN_max_dist] = -(L-delta[delta > NN_max_dist])\n",
    "        delta[delta < -NN_max_dist] = L + delta[delta < -NN_max_dist]\n",
    "       \n",
    "        \n",
    "        delta_tot[i] = delta\n",
    "        r += delta**2   \n",
    "        r = np.sqrt(r) \n",
    "        \n",
    "    return delta_tot, r\n",
    "\n",
    "def pot_and_force(delta_tot, r, dim, N):\n",
    "    # Potentials and Forces\n",
    "    F = np.zeros((dim,N,N),dtype=float)\n",
    "    U = pot_LJ_dl(r).sum(axis=1)\n",
    "    \n",
    "    for i in range(dim):\n",
    "        F[i][r != 0] = -grad_pot_LJ_dl(r[r != 0])*delta_tot[i][r != 0]/(r[r != 0])\n",
    "    r[r == 0] = np.inf\n",
    "    F_sum = F.sum(axis=1)\n",
    "   \n",
    "    return F_sum, U"
   ]
  },
  {
   "cell_type": "code",
   "execution_count": 485,
   "metadata": {
    "extensions": {
     "jupyter_dashboards": {
      "version": 1,
      "views": {
       "grid_default": {
        "hidden": true
       },
       "report_default": {}
      }
     }
    }
   },
   "outputs": [
    {
     "data": {
      "text/plain": [
       "<matplotlib.text.Text at 0x7f13eb51e780>"
      ]
     },
     "execution_count": 485,
     "metadata": {},
     "output_type": "execute_result"
    }
   ],
   "source": [
    "# Plotting the potential for Argon\n",
    "import matplotlib.pyplot as plt\n",
    "k_b = 1.38e-23\n",
    "argon = atom_props(3.405e-10, k_b*119.8)        \n",
    "\n",
    "x_t = np.linspace(0.9,5,1000)\n",
    "u_t = pot_LJ_dl(x_t);\n",
    "\n",
    "plt.plot(x_t,u_t)\n",
    "plt.xlabel(r'Distance r/$\\sigma$')\n",
    "plt.ylabel(r'Energy u/$\\epsilon$')\n",
    "\n",
    "\n",
    "   "
   ]
  },
  {
   "cell_type": "code",
   "execution_count": 638,
   "metadata": {},
   "outputs": [],
   "source": [
    "\n",
    "# Initial positions\n",
    "L = 10 # Box size\n",
    "N = 3 # partciles\n",
    "dim = 2 # Dimensions of the probem\n",
    "\n",
    "x_init, v_init = particle_generator(L, N, dim) \n"
   ]
  },
  {
   "cell_type": "code",
   "execution_count": null,
   "metadata": {
    "extensions": {
     "jupyter_dashboards": {
      "version": 1,
      "views": {
       "grid_default": {
        "hidden": true
       },
       "report_default": {}
      }
     }
    },
    "scrolled": true
   },
   "outputs": [],
   "source": [
    "import copy as cp\n",
    "\n",
    "delta_t = 1e-3\n",
    "t_range = np.arange(0, 10000*delta_t, delta_t)\n",
    "E_kin = np.zeros((len(t_range),1), dtype=float)\n",
    "E_pot = np.zeros((len(t_range),1), dtype=float)\n",
    "\n",
    "x = cp.deepcopy(x_init)\n",
    "v = cp.deepcopy(v_init)\n",
    "\n",
    "for i, t in enumerate(t_range):\n",
    "    delta_tot, r = particle_dist(L, N, x, dim)\n",
    "    F_tot, U_tot = pot_and_force(delta_tot, r, dim, N)\n",
    "    # step_size = np.sum((abs((v * delta_t)) > 0.0005))\n",
    "    x += v * delta_t\n",
    "    v += F_tot * delta_t\n",
    "    x[x > L] = (x[x > L]%L)\n",
    "    x[x < 0] = abs((x[x < 0]%L))\n",
    "    \n",
    "    # Fix energy conservation with direction of the kinetic energy\n",
    "    E_kin[i] = 0.5*(v**2).sum(axis=1).sum(axis=0)\n",
    "    E_pot[i] = U_tot.sum(axis=0)\n",
    "    \n",
    "    \n",
    "    plt.plot(x[0,0],x[1,0],'go')\n",
    "    plt.plot(x[0,1],x[1,1],'yo')\n",
    "    plt.plot(x[0,2],x[1,2],'bo')\n",
    "       \n",
    "    for i in range(N):\n",
    "        plt.plot([x[0,i],x[0,i]+F_tot[0,i]/sum(sum(abs(F_tot)))],[x[1,i],x[1,i]+F_tot[1,i]/sum(sum(abs(F_tot)))])\n",
    "    \n",
    "    \n"
   ]
  },
  {
   "cell_type": "code",
   "execution_count": null,
   "metadata": {},
   "outputs": [],
   "source": [
    "plt.plot(0,0)\n",
    "plt.plot(L,L)\n",
    "plt.axis('square')            \n",
    "plt.show()"
   ]
  },
  {
   "cell_type": "code",
   "execution_count": 637,
   "metadata": {},
   "outputs": [
    {
     "data": {
      "image/png": "[encoded data removed]",
      "text/plain": [
       "<matplotlib.figure.Figure at 0x7f13dd08d208>"
      ]
     },
     "metadata": {},
     "output_type": "display_data"
    }
   ],
   "source": [
    "plt.plot(t_range,E_pot,'b')\n",
    "plt.plot(t_range,E_kin,'r')\n",
    "plt.plot(t_range,E_kin+E_pot,'y')\n",
    "plt.show()"
   ]
  },
  {
   "cell_type": "code",
   "execution_count": 560,
   "metadata": {},
   "outputs": [
    {
     "data": {
      "text/plain": [
       "array([[  5.19235779e+00,  -8.94900618e+01,  -2.54560318e+01,\n",
       "          5.81642368e+00,  -9.04617546e+00,   3.08861601e+01,\n",
       "          5.05733840e+00,  -2.16602910e+01,  -4.97595247e+00,\n",
       "         -2.11983867e+00,  -2.70931175e+01,   5.80946936e+01,\n",
       "         -1.21449202e+01,  -1.53519897e+01,   4.00347384e+00,\n",
       "          2.41468943e+02,  -2.87249230e+01,  -1.75355833e+01,\n",
       "          2.05700954e+00,   6.67383590e+00,   1.26734760e+00,\n",
       "          1.43619234e+01,  -2.02849567e+01,  -6.16379417e+01,\n",
       "         -9.04020737e+00,  -2.20542214e+02,  -1.37269123e+00,\n",
       "          1.17904910e+02,   7.17089900e+00,  -1.63916706e+01],\n",
       "       [  7.99034999e-01,  -1.23917270e+02,   3.18951242e+02,\n",
       "          6.30625104e+01,  -1.20778386e+01,  -2.08137016e-01,\n",
       "          4.44875360e+00,  -2.08338790e+01,  -4.33721453e+01,\n",
       "          1.71529459e+01,  -7.99301602e+00,  -2.51713962e+01,\n",
       "         -6.05041050e+00,   3.71250470e-01,  -7.18092166e+00,\n",
       "          2.27500882e+02,   7.07613526e+01,   2.94794228e+00,\n",
       "          3.52186226e+00,  -6.16651965e+00,  -3.19793999e+00,\n",
       "          3.28453811e+02,  -9.33610965e+00,   3.10247360e+01,\n",
       "         -8.29078807e+00,  -2.45729169e+02,   1.70755360e+00,\n",
       "          1.01519814e+02,   4.26272765e+01,  -3.48859237e+00],\n",
       "       [ -8.93039729e-01,   1.62305658e+02,  -7.23564522e+01,\n",
       "         -5.77094064e+00,   6.34398227e-01,  -6.36827103e+00,\n",
       "         -4.41659308e+00,  -3.54791369e+00,   2.09522791e+00,\n",
       "          4.18744142e+01,   9.97164549e+00,  -2.31469616e+01,\n",
       "         -8.57229447e+00,  -1.50191916e+00,   2.65698820e+00,\n",
       "         -7.86964479e+02,   1.15774937e+01,  -3.26887134e+00,\n",
       "          2.56543860e+00,   6.06403292e-01,   1.59611678e+00,\n",
       "          5.17669924e+01,  -3.64354935e+01,   1.89452132e+01,\n",
       "          1.52652556e-01,   7.90204152e+02,   3.33691191e+00,\n",
       "         -1.76468430e+02,   1.12767403e+00,   3.70354429e-01]])"
      ]
     },
     "execution_count": 560,
     "metadata": {},
     "output_type": "execute_result"
    }
   ],
   "source": [
    "\n"
   ]
  },
  {
   "cell_type": "code",
   "execution_count": 632,
   "metadata": {},
   "outputs": [
    {
     "data": {
      "text/plain": [
       "2"
      ]
     },
     "execution_count": 632,
     "metadata": {},
     "output_type": "execute_result"
    }
   ],
   "source": [
    "(-4)%3"
   ]
  },
  {
   "cell_type": "code",
   "execution_count": null,
   "metadata": {},
   "outputs": [],
   "source": []
  }
 ],
 "metadata": {
  "extensions": {
   "jupyter_dashboards": {
    "activeView": "grid_default",
    "version": 1,
    "views": {
     "grid_default": {
      "cellMargin": 10,
      "defaultCellHeight": 20,
      "maxColumns": 12,
      "name": "grid",
      "type": "grid"
     },
     "report_default": {
      "name": "report",
      "type": "report"
     }
    }
   }
  },
  "kernelspec": {
   "display_name": "Python 3",
   "language": "python",
   "name": "python3"
  },
  "language_info": {
   "codemirror_mode": {
    "name": "ipython",
    "version": 3
   },
   "file_extension": ".py",
   "mimetype": "text/x-python",
   "name": "python",
   "nbconvert_exporter": "python",
   "pygments_lexer": "ipython3",
   "version": "3.6.2"
  }
 },
 "nbformat": 4,
 "nbformat_minor": 2
}
