{
 "cells": [
  {
   "cell_type": "code",
   "execution_count": 1,
   "metadata": {},
   "outputs": [],
   "source": [
    "'''Calculation of the Lennard-Jones potential of a specific atom'''\n",
    "import numpy as np\n",
    "\n",
    "class atom_prop():\n",
    "    def __init__(self,sigma,epsilon):\n",
    "        self.sig = sigma\n",
    "        self.eps = epsilon\n",
    "        \n",
    "def LJ_pot(atom,r):\n",
    "    sig = atom.sig\n",
    "    eps = atom.eps\n",
    "    return 4*eps*((sig/r)**12-(sig/r)**6)\n",
    "\n",
    "def LJ_pot_DL(r): # Gives energy in units of U/epsilon for r_tilde = r/sigma\n",
    "    u = np.zeros(r.shape)\n",
    "    u[r!=0] = 4*((1/r[r!=0])**12-(1/r[r!=0])**6)\n",
    "    u[r==0] = 0\n",
    "    return u"
   ]
  },
  {
   "cell_type": "code",
   "execution_count": 2,
   "metadata": {},
   "outputs": [
    {
     "data": {
      "text/plain": [
       "<matplotlib.text.Text at 0x7fc7ec181080>"
      ]
     },
     "execution_count": 2,
     "metadata": {},
     "output_type": "execute_result"
    },
    {
     "data": {
      "image/png": "[encoded data removed]",
      "text/plain": [
       "<matplotlib.figure.Figure at 0x7fc808dba9e8>"
      ]
     },
     "metadata": {},
     "output_type": "display_data"
    }
   ],
   "source": [
    "# Plotting of the potential of Argon (Ar)\n",
    "import matplotlib.pyplot as plt\n",
    "%matplotlib inline\n",
    "\n",
    "kb = 1.38e-23\n",
    "Ar = atom_prop(3.405e-10,119.8*kb)\n",
    "\n",
    "x = np.linspace(0.9,4,1000)\n",
    "U = LJ_pot_DL(x)\n",
    "\n",
    "plt.plot(x,U)\n",
    "plt.xlabel(r'Distance r/$\\sigma$',size=15)\n",
    "plt.ylabel(r'Energy U/$\\epsilon$',size=15)"
   ]
  },
  {
   "cell_type": "code",
   "execution_count": 3,
   "metadata": {},
   "outputs": [
    {
     "name": "stdout",
     "output_type": "stream",
     "text": [
      "[[ 8.26000351  9.12942791  5.31579076]\n",
      " [ 5.69652939  4.44354599  2.49475509]]\n"
     ]
    }
   ],
   "source": [
    "# Particle generation\n",
    "N = 3 # Number of particles\n",
    "L = 10 # Size box in units of sigma\n",
    "dim = 2 # Dimensions of problem\n",
    "\n",
    "# Determination of startposition\n",
    "Location = np.random.random((dim,N))*L # Each row is different coordinate (x,y,z) and each column is different particle\n",
    "\n",
    "print(Location)\n",
    "\n",
    "#Determination of start velocity\n",
    "v = np.zeros((dim,N),dtype=float) #initial velocity of the particles in dim-directions\n",
    "\n",
    " "
   ]
  },
  {
   "cell_type": "code",
   "execution_count": 4,
   "metadata": {},
   "outputs": [],
   "source": [
    "# Calculation of minimal distance of particles\n",
    "\n",
    "# Mirror cubes (Translation of original cube)\n",
    "Locationxyz = np.zeros((dim,N,N)) # Gives the matrix which contains the coordinate of each dimension dim, for all particles wrt a certain particle. (elke kolom geeft coordinaten van alle deeltjes tov 1 deeltje)\n",
    "delta_tot = np.zeros((dim,N,N))\n",
    "\n",
    "r = np.zeros((N,N))\n",
    "NN_max_dist = L/2\n",
    "\n",
    "for i in range(dim):\n",
    "    Locationxyz[i] = np.tile(Location[i,:].reshape(N,1),N)\n",
    "    delta = (Location[i,:].reshape(1,N)-Location[i,:].reshape(N,1))\n",
    "    \n",
    "    # Determination of the location of the image particles\n",
    "    Locationxyz[i][delta > NN_max_dist] = Locationxyz[i][delta > NN_max_dist] + L\n",
    "    Locationxyz[i][delta < -NN_max_dist] = Locationxyz[i][delta < -NN_max_dist] - L\n",
    "    \n",
    "    # Determination of the image deltas\n",
    "    delta_abs = abs(delta)\n",
    "    delta_abs[delta_abs > NN_max_dist] = L - delta_abs[delta > NN_max_dist]\n",
    "    \n",
    "    delta_tot[i] = delta\n",
    "    delta_tot[i][delta > NN_max_dist] = -L + delta_tot[i][delta > NN_max_dist] \n",
    "    delta_tot[i][delta < -NN_max_dist] = delta_tot[i][delta < -NN_max_dist] + L\n",
    "    \n",
    "    r += delta_abs**2\n",
    "    \n",
    "r = np.sqrt(r)\n",
    "\n",
    "U = LJ_pot_DL(r)"
   ]
  },
  {
   "cell_type": "code",
   "execution_count": 5,
   "metadata": {},
   "outputs": [
    {
     "name": "stdout",
     "output_type": "stream",
     "text": [
      "delta_tot [[[ 0.          0.86942439 -2.94421275]\n",
      "  [-0.86942439  0.         -3.81363714]\n",
      "  [ 2.94421275  3.81363714  0.        ]]\n",
      "\n",
      " [[ 0.         -1.2529834  -3.20177431]\n",
      "  [ 1.2529834   0.         -1.9487909 ]\n",
      "  [ 3.20177431  1.9487909   0.        ]]]\n",
      "Locationxyz =  [[[ 8.26000351  8.26000351  8.26000351]\n",
      "  [ 9.12942791  9.12942791  9.12942791]\n",
      "  [ 5.31579076  5.31579076  5.31579076]]\n",
      "\n",
      " [[ 5.69652939  5.69652939  5.69652939]\n",
      "  [ 4.44354599  4.44354599  4.44354599]\n",
      "  [ 2.49475509  2.49475509  2.49475509]]]\n",
      "r =  [[ 0.          1.52507908  4.3496836 ]\n",
      " [ 1.52507908  0.          4.28271108]\n",
      " [ 4.3496836   4.28271108  0.        ]]\n",
      "U =  [[ 0.         -0.29264431 -0.00059054]\n",
      " [-0.29264431  0.         -0.00064815]\n",
      " [-0.00059054 -0.00064815  0.        ]]\n"
     ]
    }
   ],
   "source": [
    "print(\"delta_tot\",delta_tot)\n",
    "print(\"Locationxyz = \",Locationxyz)\n",
    "print(\"r = \",r);print(\"U = \",U)"
   ]
  },
  {
   "cell_type": "markdown",
   "metadata": {},
   "source": [
    "## Steps to be taken next\n",
    "    1. Determination of the gradient of U\n",
    "    2. Determination of the forces F"
   ]
  },
  {
   "cell_type": "code",
   "execution_count": 6,
   "metadata": {},
   "outputs": [
    {
     "data": {
      "text/plain": [
       "'Function which gives the gradient of the LJ-pot. Input: absolute distance between the particles'"
      ]
     },
     "execution_count": 6,
     "metadata": {},
     "output_type": "execute_result"
    }
   ],
   "source": [
    "# Definition of the gradient of the LJ_pot\n",
    "def grad_pot(r):\n",
    "    grad_u = np.zeros(r.shape)\n",
    "    grad_u[r!=0] = -24*(2*(1/r[r!=0])**13-(1/r[r!=0])**7)\n",
    "    grad_u[r==0] = 0\n",
    "    return grad_u\n",
    "'''Function which gives the gradient of the LJ-pot. Input: absolute distance between the particles'''"
   ]
  },
  {
   "cell_type": "code",
   "execution_count": 7,
   "metadata": {},
   "outputs": [
    {
     "data": {
      "text/plain": [
       "'In this function the forcing due to the Lennard-Jones potential is calculated. Input: # of dimensions, # of particles, absolute distance between particles, distance vector between particles'"
      ]
     },
     "execution_count": 7,
     "metadata": {},
     "output_type": "execute_result"
    }
   ],
   "source": [
    "# Definition of the forcing\n",
    "\n",
    "def force_LJ(dim,N,r,delta_tot):\n",
    "    F = np.zeros((dim,N,N),dtype=float)\n",
    "    for i in range(dim):\n",
    "        F[i][r!=0] = -grad_pot(r[r!=0])/(r[r!=0])*delta_tot[i][r!=0]\n",
    "    #print(F)\n",
    "    return F\n",
    "'''In this function the forcing due to the Lennard-Jones potential is calculated. Input: # of dimensions, # of particles, absolute distance between particles, distance vector between particles'''"
   ]
  },
  {
   "cell_type": "code",
   "execution_count": 8,
   "metadata": {},
   "outputs": [
    {
     "name": "stdout",
     "output_type": "stream",
     "text": [
      "[[[  0.00000000e+00  -5.99684866e-01   5.51303591e-04]\n",
      "  [  5.99684866e-01   0.00000000e+00   8.08461979e-04]\n",
      "  [ -5.51303591e-04  -8.08461979e-04   0.00000000e+00]]\n",
      "\n",
      " [[  0.00000000e+00   8.64244426e-01   5.99531970e-04]\n",
      "  [ -8.64244426e-01   0.00000000e+00   4.13128803e-04]\n",
      "  [ -5.99531970e-04  -4.13128803e-04   0.00000000e+00]]]\n"
     ]
    }
   ],
   "source": [
    "# Calculation of the forcing\n",
    "F = force_LJ(dim,N,r,delta_tot)\n",
    "print(F)"
   ]
  },
  {
   "cell_type": "code",
   "execution_count": null,
   "metadata": {},
   "outputs": [],
   "source": [
    "#Using the functions from above\n",
    "\n"
   ]
  }
 ],
 "metadata": {
  "kernelspec": {
   "display_name": "Python 3",
   "language": "python",
   "name": "python3"
  },
  "language_info": {
   "codemirror_mode": {
    "name": "ipython",
    "version": 3
   },
   "file_extension": ".py",
   "mimetype": "text/x-python",
   "name": "python",
   "nbconvert_exporter": "python",
   "pygments_lexer": "ipython3",
   "version": "3.6.2"
  }
 },
 "nbformat": 4,
 "nbformat_minor": 2
}
